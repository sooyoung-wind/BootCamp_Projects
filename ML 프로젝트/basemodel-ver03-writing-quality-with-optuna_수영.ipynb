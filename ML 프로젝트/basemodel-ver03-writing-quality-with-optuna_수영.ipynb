{
 "cells": [
  {
   "cell_type": "markdown",
   "id": "2d807989",
   "metadata": {
    "papermill": {
     "duration": 0.007025,
     "end_time": "2023-10-17T09:52:30.690723",
     "exception": false,
     "start_time": "2023-10-17T09:52:30.683698",
     "status": "completed"
    },
    "tags": []
   },
   "source": [
    "# Load"
   ]
  },
  {
   "cell_type": "code",
   "execution_count": 1,
   "id": "3a757cd1",
   "metadata": {
    "execution": {
     "iopub.execute_input": "2023-10-17T09:52:30.705664Z",
     "iopub.status.busy": "2023-10-17T09:52:30.705095Z",
     "iopub.status.idle": "2023-10-17T09:52:32.272728Z",
     "shell.execute_reply": "2023-10-17T09:52:32.271602Z"
    },
    "papermill": {
     "duration": 1.5775,
     "end_time": "2023-10-17T09:52:32.275008",
     "exception": false,
     "start_time": "2023-10-17T09:52:30.697508",
     "status": "completed"
    },
    "tags": []
   },
   "outputs": [],
   "source": [
    "import pandas as pd\n",
    "import numpy as np\n",
    "import matplotlib.pyplot as plt\n",
    "import seaborn as sns\n",
    "\n",
    "\n",
    "from tqdm.auto import tqdm\n",
    "tqdm.pandas()\n",
    "from collections import Counter\n",
    "import re"
   ]
  },
  {
   "cell_type": "code",
   "execution_count": 2,
   "id": "638bf351",
   "metadata": {
    "execution": {
     "iopub.execute_input": "2023-10-17T09:52:32.290406Z",
     "iopub.status.busy": "2023-10-17T09:52:32.290001Z",
     "iopub.status.idle": "2023-10-17T09:52:47.415421Z",
     "shell.execute_reply": "2023-10-17T09:52:47.414546Z"
    },
    "papermill": {
     "duration": 15.134988,
     "end_time": "2023-10-17T09:52:47.417261",
     "exception": false,
     "start_time": "2023-10-17T09:52:32.282273",
     "status": "completed"
    },
    "tags": []
   },
   "outputs": [
    {
     "name": "stdout",
     "output_type": "stream",
     "text": [
      "(8405898, 11) (2471, 2) (6, 11) (3, 2)\n",
      "CPU times: user 6.34 s, sys: 2.85 s, total: 9.19 s\n",
      "Wall time: 15.1 s\n"
     ]
    }
   ],
   "source": [
    "%%time\n",
    "home_path = '/kaggle/input/linking-writing-processes-to-writing-quality/'\n",
    "train_logs = pd.read_csv(home_path + 'train_logs.csv')\n",
    "train_scores = pd.read_csv(home_path + 'train_scores.csv')\n",
    "test_logs = pd.read_csv(home_path + 'test_logs.csv')\n",
    "submission = pd.read_csv(home_path + 'sample_submission.csv')\n",
    "\n",
    "print(train_logs.shape, train_scores.shape, test_logs.shape, submission.shape)"
   ]
  },
  {
   "cell_type": "code",
   "execution_count": 3,
   "id": "09143e13",
   "metadata": {
    "execution": {
     "iopub.execute_input": "2023-10-17T09:52:47.433537Z",
     "iopub.status.busy": "2023-10-17T09:52:47.433256Z",
     "iopub.status.idle": "2023-10-17T09:52:47.457657Z",
     "shell.execute_reply": "2023-10-17T09:52:47.456759Z"
    },
    "papermill": {
     "duration": 0.034699,
     "end_time": "2023-10-17T09:52:47.459419",
     "exception": false,
     "start_time": "2023-10-17T09:52:47.424720",
     "status": "completed"
    },
    "tags": []
   },
   "outputs": [],
   "source": [
    "activities = ['Input', 'Remove/Cut', 'Nonproduction', 'Replace', 'Paste']\n",
    "events = ['q', 'Space', 'Backspace', 'Shift', 'ArrowRight', 'Leftclick', 'ArrowLeft', '.', ',', \n",
    "          'ArrowDown', 'ArrowUp', 'Enter', 'CapsLock', \"'\", 'Delete', 'Unidentified']\n",
    "text_changes = ['q', ' ', 'NoChange', '.', ',', '\\n', \"'\", '\"', '-', '?', ';', '=', '/', '\\\\', ':']\n",
    "\n",
    "\n",
    "def activity_counts(df):\n",
    "    tmp_df = df.groupby('id').agg({'activity': list}).reset_index()\n",
    "    ret = list()\n",
    "#     for li in tqdm(tmp_df['activity'].values):\n",
    "    for li in tmp_df['activity'].values:\n",
    "        items = list(Counter(li).items())\n",
    "        di = dict()\n",
    "        for k in activities:\n",
    "            di[k] = 0\n",
    "        for item in items:\n",
    "            k, v = item[0], item[1]\n",
    "            if k in di:\n",
    "                di[k] = v\n",
    "        ret.append(di)\n",
    "    ret = pd.DataFrame(ret)\n",
    "    cols = [f'activity_{i}_count' for i in range(len(ret.columns))]\n",
    "    ret.columns = cols\n",
    "    return ret\n",
    "\n",
    "\n",
    "def event_counts(df, colname):\n",
    "    tmp_df = df.groupby('id').agg({colname: list}).reset_index()\n",
    "    ret = list()\n",
    "#     for li in tqdm(tmp_df[colname].values):\n",
    "    for li in tmp_df[colname].values:\n",
    "        items = list(Counter(li).items())\n",
    "        di = dict()\n",
    "        for k in events:\n",
    "            di[k] = 0\n",
    "        for item in items:\n",
    "            k, v = item[0], item[1]\n",
    "            if k in di:\n",
    "                di[k] = v\n",
    "        ret.append(di)\n",
    "    ret = pd.DataFrame(ret)\n",
    "    cols = [f'{colname}_{i}_count' for i in range(len(ret.columns))]\n",
    "    ret.columns = cols\n",
    "    return ret\n",
    "\n",
    "\n",
    "def text_change_counts(df):\n",
    "    tmp_df = df.groupby('id').agg({'text_change': list}).reset_index()\n",
    "    ret = list()\n",
    "#     for li in tqdm(tmp_df['text_change'].values):\n",
    "    for li in tmp_df['text_change'].values:\n",
    "        items = list(Counter(li).items())\n",
    "        di = dict()\n",
    "        for k in text_changes:\n",
    "            di[k] = 0\n",
    "        for item in items:\n",
    "            k, v = item[0], item[1]\n",
    "            if k in di:\n",
    "                di[k] = v\n",
    "        ret.append(di)\n",
    "    ret = pd.DataFrame(ret)\n",
    "    cols = [f'text_change_{i}_count' for i in range(len(ret.columns))]\n",
    "    ret.columns = cols\n",
    "    return ret\n",
    "\n",
    "\n",
    "punctuations = ['\"', '.', ',', \"'\", '-', ';', ':', '?', '!', '<', '>', '/',\n",
    "                '@', '#', '$', '%', '^', '&', '*', '(', ')', '_', '+']\n",
    "def match_punctuations(df):\n",
    "    tmp_df = df.groupby('id').agg({'down_event': list}).reset_index()\n",
    "    ret = list()\n",
    "#     for li in tqdm(tmp_df['down_event'].values):\n",
    "    for li in tmp_df['down_event'].values:\n",
    "        cnt = 0\n",
    "        items = list(Counter(li).items())\n",
    "        for item in items:\n",
    "            k, v = item[0], item[1]\n",
    "            if k in punctuations:\n",
    "                cnt += v\n",
    "        ret.append(cnt)\n",
    "    ret = pd.DataFrame({'punct_cnt': ret})\n",
    "    return ret\n",
    "\n",
    "\n",
    "def get_input_words(df):\n",
    "    tmp_df = df[(~df['text_change'].str.contains('=>'))&(df['text_change'] != 'NoChange')].reset_index(drop=True)\n",
    "    tmp_df = tmp_df.groupby('id').agg({'text_change': list}).reset_index()\n",
    "    tmp_df['text_change'] = tmp_df['text_change'].apply(lambda x: ''.join(x))\n",
    "    tmp_df['text_change'] = tmp_df['text_change'].apply(lambda x: re.findall(r'q+', x))\n",
    "    tmp_df['input_word_count'] = tmp_df['text_change'].apply(len)\n",
    "    tmp_df['input_word_length_mean'] = tmp_df['text_change'].apply(lambda x: np.mean([len(i) for i in x] if len(x) > 0 else 0))\n",
    "    tmp_df['input_word_length_max'] = tmp_df['text_change'].apply(lambda x: np.max([len(i) for i in x] if len(x) > 0 else 0))\n",
    "    tmp_df['input_word_length_std'] = tmp_df['text_change'].apply(lambda x: np.std([len(i) for i in x] if len(x) > 0 else 0))\n",
    "    tmp_df.drop(['text_change'], axis=1, inplace=True)\n",
    "    return tmp_df\n",
    "\n",
    "\n",
    "def make_feats(df):\n",
    "    \n",
    "    # id\n",
    "    feats = pd.DataFrame({'id': df['id'].unique().tolist()})\n",
    "    \n",
    "    # time shift\n",
    "    df['up_time_shift1'] = df.groupby('id')['up_time'].shift(1)\n",
    "    df['action_time_gap'] = df['down_time'] - df['up_time_shift1']\n",
    "    df.drop('up_time_shift1', axis=1, inplace=True)\n",
    "    \n",
    "    # cursor position shift\n",
    "    df['cursor_position_shift1'] = df.groupby('id')['cursor_position'].shift(1)\n",
    "    df['cursor_position_change'] = np.abs(df['cursor_position'] - df['cursor_position_shift1'])\n",
    "    df.drop('cursor_position_shift1', axis=1, inplace=True)\n",
    "    \n",
    "    # word count shift\n",
    "    df['word_count_shift1'] = df.groupby('id')['word_count'].shift(1)\n",
    "    df['word_count_change'] = np.abs(df['word_count'] - df['word_count_shift1'])\n",
    "    df.drop('word_count_shift1', axis=1, inplace=True)\n",
    "    \n",
    "    # stats feats\n",
    "#     for item in tqdm([\n",
    "#         ('event_id', ['max']),\n",
    "#         ('up_time', ['max']),\n",
    "#         ('action_time', ['sum', 'max', 'mean', 'std']),\n",
    "#         ('activity', ['nunique']),\n",
    "#         ('down_event', ['nunique']),\n",
    "#         ('up_event', ['nunique']),\n",
    "#         ('text_change', ['nunique']),\n",
    "#         ('cursor_position', ['nunique', 'max', 'mean']),\n",
    "#         ('word_count', ['nunique', 'max', 'mean']),\n",
    "#         ('action_time_gap', ['max', 'min', 'mean', 'std', 'sum']),\n",
    "#         ('cursor_position_change', ['max', 'mean', 'std', 'sum']),\n",
    "#         ('word_count_change', ['max', 'mean', 'std', 'sum'])\n",
    "#     ]):\n",
    "    for item in [\n",
    "        ('event_id', ['max']),\n",
    "        ('up_time', ['max']),\n",
    "        ('action_time', ['sum', 'max', 'mean', 'std']),\n",
    "        ('activity', ['nunique']),\n",
    "        ('down_event', ['nunique']),\n",
    "        ('up_event', ['nunique']),\n",
    "        ('text_change', ['nunique']),\n",
    "        ('cursor_position', ['nunique', 'max', 'mean']),\n",
    "        ('word_count', ['nunique', 'max', 'mean']),\n",
    "        ('action_time_gap', ['max', 'min', 'mean', 'std', 'sum']),\n",
    "        ('cursor_position_change', ['max', 'mean', 'std', 'sum']),\n",
    "        ('word_count_change', ['max', 'mean', 'std', 'sum'])\n",
    "    ]:\n",
    "        colname, methods = item[0], item[1]\n",
    "        for method in methods:\n",
    "            tmp_df = df.groupby(['id']).agg({colname: method}).reset_index().rename(columns={colname: f'{colname}_{method}'})\n",
    "            feats = feats.merge(tmp_df, on='id', how='left')\n",
    "    \n",
    "    # counts\n",
    "    tmp_df = activity_counts(df)\n",
    "    feats = pd.concat([feats, tmp_df], axis=1)\n",
    "    tmp_df = event_counts(df, 'down_event')\n",
    "    feats = pd.concat([feats, tmp_df], axis=1)\n",
    "    tmp_df = event_counts(df, 'up_event')\n",
    "    feats = pd.concat([feats, tmp_df], axis=1)\n",
    "    tmp_df = text_change_counts(df)\n",
    "    feats = pd.concat([feats, tmp_df], axis=1)\n",
    "    tmp_df = match_punctuations(df)\n",
    "    feats = pd.concat([feats, tmp_df], axis=1)\n",
    "    \n",
    "    # input words\n",
    "    tmp_df = get_input_words(df)\n",
    "    feats = pd.merge(feats, tmp_df, on='id', how='left')\n",
    "    \n",
    "    # compare feats\n",
    "    feats['word_time_ratio'] = feats['word_count_max'] / feats['up_time_max']\n",
    "    feats['word_event_ratio'] = feats['word_count_max'] / feats['event_id_max']\n",
    "    feats['event_time_ratio'] = feats['event_id_max']  / feats['up_time_max']\n",
    "    feats['idle_time_ratio'] = feats['action_time_gap_sum'] / feats['up_time_max']\n",
    "    \n",
    "    # made by Soo.Y\n",
    "    feats['final_word_count'] = df.groupby('id')['word_count'].last().values\n",
    "    feats['writing_time'] = (df.groupby('id')['up_time'].last() - df.groupby('id')['up_time'].first()).values\n",
    "    \n",
    "    return feats"
   ]
  },
  {
   "cell_type": "markdown",
   "id": "6e2e68d0",
   "metadata": {
    "papermill": {
     "duration": 0.006733,
     "end_time": "2023-10-17T09:52:47.473502",
     "exception": false,
     "start_time": "2023-10-17T09:52:47.466769",
     "status": "completed"
    },
    "tags": []
   },
   "source": [
    "# Downcast"
   ]
  },
  {
   "cell_type": "code",
   "execution_count": 4,
   "id": "3136a257",
   "metadata": {
    "execution": {
     "iopub.execute_input": "2023-10-17T09:52:47.488820Z",
     "iopub.status.busy": "2023-10-17T09:52:47.488501Z",
     "iopub.status.idle": "2023-10-17T09:52:47.495149Z",
     "shell.execute_reply": "2023-10-17T09:52:47.494215Z"
    },
    "papermill": {
     "duration": 0.016584,
     "end_time": "2023-10-17T09:52:47.496864",
     "exception": false,
     "start_time": "2023-10-17T09:52:47.480280",
     "status": "completed"
    },
    "tags": []
   },
   "outputs": [],
   "source": [
    "def downcast(df, verbose=True):\n",
    "    start_mem = df.memory_usage().sum() / 1024**2\n",
    "    for col in df.columns:\n",
    "        dtype_name = df[col].dtype.name\n",
    "        if dtype_name == 'object':\n",
    "            df[col] = df[col].astype('category')\n",
    "#             pass\n",
    "        elif dtype_name == 'bool':\n",
    "            df[col] = df[col].astype('int8')\n",
    "        elif dtype_name.startswith('int') or (df[col].round() == df[col]).all():\n",
    "                                             df[col] = pd.to_numeric(df[col], downcast='integer')\n",
    "        else:\n",
    "            df[col] = pd.to_numeric(df[col], downcast='float')\n",
    "    end_mem = df.memory_usage().sum() / 1024**2\n",
    "    \n",
    "    if verbose:\n",
    "        print('{:.1f}% 압축됨'.format(100*(start_mem - end_mem) / start_mem))\n",
    "    \n",
    "    return df"
   ]
  },
  {
   "cell_type": "code",
   "execution_count": 5,
   "id": "be62cd01",
   "metadata": {
    "execution": {
     "iopub.execute_input": "2023-10-17T09:52:47.511696Z",
     "iopub.status.busy": "2023-10-17T09:52:47.511423Z",
     "iopub.status.idle": "2023-10-17T09:52:52.296404Z",
     "shell.execute_reply": "2023-10-17T09:52:52.295371Z"
    },
    "papermill": {
     "duration": 4.794121,
     "end_time": "2023-10-17T09:52:52.298084",
     "exception": false,
     "start_time": "2023-10-17T09:52:47.503963",
     "status": "completed"
    },
    "tags": []
   },
   "outputs": [
    {
     "name": "stdout",
     "output_type": "stream",
     "text": [
      "69.3% 압축됨\n",
      "-29.6% 압축됨\n"
     ]
    }
   ],
   "source": [
    "train_logs = downcast(train_logs)\n",
    "test_logs = downcast(test_logs)"
   ]
  },
  {
   "cell_type": "code",
   "execution_count": 6,
   "id": "19690730",
   "metadata": {
    "execution": {
     "iopub.execute_input": "2023-10-17T09:52:52.312522Z",
     "iopub.status.busy": "2023-10-17T09:52:52.312281Z",
     "iopub.status.idle": "2023-10-17T09:53:07.949534Z",
     "shell.execute_reply": "2023-10-17T09:53:07.948292Z"
    },
    "papermill": {
     "duration": 15.646643,
     "end_time": "2023-10-17T09:53:07.951598",
     "exception": false,
     "start_time": "2023-10-17T09:52:52.304955",
     "status": "completed"
    },
    "tags": []
   },
   "outputs": [
    {
     "name": "stdout",
     "output_type": "stream",
     "text": [
      "CPU times: user 14.3 s, sys: 1.32 s, total: 15.6 s\n",
      "Wall time: 15.6 s\n"
     ]
    }
   ],
   "source": [
    "%%time\n",
    "train_original = make_feats(train_logs)\n",
    "test_original = make_feats(test_logs)"
   ]
  },
  {
   "cell_type": "markdown",
   "id": "661927ec",
   "metadata": {
    "papermill": {
     "duration": 0.006718,
     "end_time": "2023-10-17T09:53:07.965931",
     "exception": false,
     "start_time": "2023-10-17T09:53:07.959213",
     "status": "completed"
    },
    "tags": []
   },
   "source": [
    "# 이상치 제거"
   ]
  },
  {
   "cell_type": "code",
   "execution_count": 7,
   "id": "b06dcf4d",
   "metadata": {
    "execution": {
     "iopub.execute_input": "2023-10-17T09:53:07.980789Z",
     "iopub.status.busy": "2023-10-17T09:53:07.980323Z",
     "iopub.status.idle": "2023-10-17T09:53:07.983771Z",
     "shell.execute_reply": "2023-10-17T09:53:07.983275Z"
    },
    "papermill": {
     "duration": 0.012607,
     "end_time": "2023-10-17T09:53:07.985185",
     "exception": false,
     "start_time": "2023-10-17T09:53:07.972578",
     "status": "completed"
    },
    "tags": []
   },
   "outputs": [],
   "source": [
    "def my_outlier_condition(df):\n",
    "    # final_word_count < 200 is outlier\n",
    "    df = df[df['final_word_count'] >= 200]\n",
    "    # writing_time >= 3000 is outlier\n",
    "    df = df[df['writing_time'] <= 50*60*1000]\n",
    "    return df"
   ]
  },
  {
   "cell_type": "code",
   "execution_count": 8,
   "id": "b7a28483",
   "metadata": {
    "execution": {
     "iopub.execute_input": "2023-10-17T09:53:08.000783Z",
     "iopub.status.busy": "2023-10-17T09:53:08.000367Z",
     "iopub.status.idle": "2023-10-17T09:53:08.007195Z",
     "shell.execute_reply": "2023-10-17T09:53:08.006393Z"
    },
    "papermill": {
     "duration": 0.016389,
     "end_time": "2023-10-17T09:53:08.008812",
     "exception": false,
     "start_time": "2023-10-17T09:53:07.992423",
     "status": "completed"
    },
    "tags": []
   },
   "outputs": [],
   "source": [
    "process_outlier = True\n",
    "if process_outlier:\n",
    "    train_feats_outlier = my_outlier_condition(train_original)\n",
    "    test_feats_outlier = test_original\n",
    "else:\n",
    "    train_feats_outlier = train_original\n",
    "    test_feats_outlier = test_original"
   ]
  },
  {
   "cell_type": "code",
   "execution_count": 9,
   "id": "517e0f45",
   "metadata": {
    "execution": {
     "iopub.execute_input": "2023-10-17T09:53:08.023755Z",
     "iopub.status.busy": "2023-10-17T09:53:08.023346Z",
     "iopub.status.idle": "2023-10-17T09:53:08.027778Z",
     "shell.execute_reply": "2023-10-17T09:53:08.026796Z"
    },
    "papermill": {
     "duration": 0.013281,
     "end_time": "2023-10-17T09:53:08.029199",
     "exception": false,
     "start_time": "2023-10-17T09:53:08.015918",
     "status": "completed"
    },
    "tags": []
   },
   "outputs": [
    {
     "name": "stdout",
     "output_type": "stream",
     "text": [
      "original train : 2471\n",
      "train without outlier : 2434\n"
     ]
    }
   ],
   "source": [
    "# 2471 -> 2434\n",
    "print(f'original train : {len(train_original.id)}')\n",
    "print(f'train without outlier : {len(train_feats_outlier.id)}')"
   ]
  },
  {
   "cell_type": "code",
   "execution_count": 10,
   "id": "3c164ecb",
   "metadata": {
    "execution": {
     "iopub.execute_input": "2023-10-17T09:53:08.044133Z",
     "iopub.status.busy": "2023-10-17T09:53:08.043672Z",
     "iopub.status.idle": "2023-10-17T09:53:08.051718Z",
     "shell.execute_reply": "2023-10-17T09:53:08.050848Z"
    },
    "papermill": {
     "duration": 0.017489,
     "end_time": "2023-10-17T09:53:08.053473",
     "exception": false,
     "start_time": "2023-10-17T09:53:08.035984",
     "status": "completed"
    },
    "tags": []
   },
   "outputs": [],
   "source": [
    "# merge train data set and Target data set\n",
    "train_feats_outlier = train_feats_outlier.merge(train_scores, on='id', how='left')"
   ]
  },
  {
   "cell_type": "code",
   "execution_count": 11,
   "id": "ac41e46a",
   "metadata": {
    "execution": {
     "iopub.execute_input": "2023-10-17T09:53:08.068554Z",
     "iopub.status.busy": "2023-10-17T09:53:08.068311Z",
     "iopub.status.idle": "2023-10-17T09:53:08.072161Z",
     "shell.execute_reply": "2023-10-17T09:53:08.071106Z"
    },
    "papermill": {
     "duration": 0.01329,
     "end_time": "2023-10-17T09:53:08.074012",
     "exception": false,
     "start_time": "2023-10-17T09:53:08.060722",
     "status": "completed"
    },
    "tags": []
   },
   "outputs": [],
   "source": [
    "# train_feats = train_feats_outlier.drop(columns=['final_word_count', 'writing_time']) # using this data set\n",
    "# test_feats = test_feats_outlier.drop(columns=['final_word_count', 'writing_time']) # using this data set"
   ]
  },
  {
   "cell_type": "code",
   "execution_count": 12,
   "id": "c3bbe14c",
   "metadata": {
    "execution": {
     "iopub.execute_input": "2023-10-17T09:53:08.089589Z",
     "iopub.status.busy": "2023-10-17T09:53:08.088886Z",
     "iopub.status.idle": "2023-10-17T09:53:08.096019Z",
     "shell.execute_reply": "2023-10-17T09:53:08.095168Z"
    },
    "papermill": {
     "duration": 0.01668,
     "end_time": "2023-10-17T09:53:08.097674",
     "exception": false,
     "start_time": "2023-10-17T09:53:08.080994",
     "status": "completed"
    },
    "tags": []
   },
   "outputs": [],
   "source": [
    "# # trying 영수's drop columns\n",
    "train_feats = train_feats_outlier.drop(columns = ['activity_4_count', 'up_event_9_count', 'up_event_10_count', 'up_event_14_count', 'up_event_15_count', 'down_event_15_count'])\n",
    "test_feats = test_feats_outlier.drop(columns = ['activity_4_count', 'up_event_9_count', 'up_event_10_count', 'up_event_14_count', 'up_event_15_count', 'down_event_15_count'])"
   ]
  },
  {
   "cell_type": "code",
   "execution_count": 13,
   "id": "a748df6a",
   "metadata": {
    "execution": {
     "iopub.execute_input": "2023-10-17T09:53:08.112189Z",
     "iopub.status.busy": "2023-10-17T09:53:08.111924Z",
     "iopub.status.idle": "2023-10-17T09:53:08.118211Z",
     "shell.execute_reply": "2023-10-17T09:53:08.117688Z"
    },
    "papermill": {
     "duration": 0.015324,
     "end_time": "2023-10-17T09:53:08.119882",
     "exception": false,
     "start_time": "2023-10-17T09:53:08.104558",
     "status": "completed"
    },
    "tags": []
   },
   "outputs": [],
   "source": [
    "drop_columns = ['up_event_4_count', 'up_event_5_count', 'up_event_6_count',\n",
    "       'up_event_8_count', 'up_event_3_count', 'up_event_2_count',\n",
    "       'up_event_1_count', 'up_event_13_count', 'up_event_12_count',\n",
    "       'up_event_11_count', 'text_change_2_count', 'up_event_7_count']\n",
    "\n",
    "train_feats = train_feats.drop(columns = drop_columns)\n",
    "test_feats = test_feats.drop(columns = drop_columns)"
   ]
  },
  {
   "cell_type": "code",
   "execution_count": 14,
   "id": "9f19ced1",
   "metadata": {
    "execution": {
     "iopub.execute_input": "2023-10-17T09:53:08.134824Z",
     "iopub.status.busy": "2023-10-17T09:53:08.134227Z",
     "iopub.status.idle": "2023-10-17T09:53:08.138861Z",
     "shell.execute_reply": "2023-10-17T09:53:08.137832Z"
    },
    "papermill": {
     "duration": 0.013932,
     "end_time": "2023-10-17T09:53:08.140552",
     "exception": false,
     "start_time": "2023-10-17T09:53:08.126620",
     "status": "completed"
    },
    "tags": []
   },
   "outputs": [
    {
     "name": "stdout",
     "output_type": "stream",
     "text": [
      "(2434, 76) (3, 75)\n"
     ]
    }
   ],
   "source": [
    "print(train_feats.shape, test_feats.shape)"
   ]
  },
  {
   "cell_type": "markdown",
   "id": "1df88b6d",
   "metadata": {
    "papermill": {
     "duration": 0.006781,
     "end_time": "2023-10-17T09:53:08.154450",
     "exception": false,
     "start_time": "2023-10-17T09:53:08.147669",
     "status": "completed"
    },
    "tags": []
   },
   "source": [
    "# Feature Test"
   ]
  },
  {
   "cell_type": "code",
   "execution_count": 15,
   "id": "27364d77",
   "metadata": {
    "execution": {
     "iopub.execute_input": "2023-10-17T09:53:08.169326Z",
     "iopub.status.busy": "2023-10-17T09:53:08.169020Z",
     "iopub.status.idle": "2023-10-17T09:53:08.172667Z",
     "shell.execute_reply": "2023-10-17T09:53:08.171806Z"
    },
    "papermill": {
     "duration": 0.012813,
     "end_time": "2023-10-17T09:53:08.174304",
     "exception": false,
     "start_time": "2023-10-17T09:53:08.161491",
     "status": "completed"
    },
    "tags": []
   },
   "outputs": [],
   "source": [
    "# #############################################\n",
    "# # action time gap\n",
    "# #############################################\n",
    "# # col 추가\n",
    "# count = train_logs[train_logs['action_time_gap'] >=120000].groupby('id')['id'].count() # -> raw 수가 안 맞아서 NAN 발생\n",
    "# count = pd.DataFrame(data=count)\n",
    "# count = count.rename({'id': 'penalty1'}, axis='columns')\n",
    "\n",
    "# train_feats = pd.merge(train_feats,count, on='id', how='left')\n",
    "# test_feats = pd.merge(test_feats,count, on='id', how='left')\n",
    "\n",
    "# train_feats['penalty1'] = train_feats['penalty1'].fillna(0)\n",
    "# test_feats['penalty1'] = test_feats['penalty1'].fillna(0)"
   ]
  },
  {
   "cell_type": "code",
   "execution_count": 16,
   "id": "7c0361ed",
   "metadata": {
    "execution": {
     "iopub.execute_input": "2023-10-17T09:53:08.233981Z",
     "iopub.status.busy": "2023-10-17T09:53:08.233069Z",
     "iopub.status.idle": "2023-10-17T09:53:08.238260Z",
     "shell.execute_reply": "2023-10-17T09:53:08.237370Z"
    },
    "papermill": {
     "duration": 0.015182,
     "end_time": "2023-10-17T09:53:08.240087",
     "exception": false,
     "start_time": "2023-10-17T09:53:08.224905",
     "status": "completed"
    },
    "tags": []
   },
   "outputs": [],
   "source": [
    "# ['input_word_length_mean', 'down_event_8_count',\n",
    "#        'cursor_position_max', 'down_event_3_count',\n",
    "#        'input_word_length_std', 'down_event_7_count',\n",
    "#        'down_event_11_count', 'input_word_length_max',\n",
    "#        'text_change_8_count', 'word_count_change_mean',\n",
    "#        'cursor_position_mean', 'action_time_gap_min',\n",
    "#        'word_count_nunique', 'down_event_0_count',\n",
    "#        'cursor_position_change_mean', 'text_change_5_count',\n",
    "#        'action_time_std', 'action_time_gap_sum', 'up_time_max',\n",
    "#        'cursor_position_nunique', 'cursor_position_change_max',\n",
    "#        'activity_2_count', 'down_event_5_count',\n",
    "#        'cursor_position_change_sum', 'down_event_1_count',\n",
    "#        'action_time_max', 'word_time_ratio', 'word_event_ratio',\n",
    "#        'text_change_nunique', 'cursor_position_change_std',\n",
    "#        'text_change_1_count', 'action_time_gap_std', 'action_time_sum',\n",
    "#        'text_change_4_count', 'activity_1_count', 'action_time_gap_max',\n",
    "#        'punct_cnt', 'up_event_11_count', 'idle_time_ratio',\n",
    "#        'action_time_mean', 'word_count_mean', 'word_count_change_std',\n",
    "#        'text_change_3_count', 'word_count_max', 'down_event_12_count',\n",
    "#        'up_event_3_count', 'down_event_13_count', 'up_event_0_count',\n",
    "#        'event_time_ratio', 'event_id_max', 'down_event_2_count',\n",
    "#        'text_change_0_count', 'text_change_9_count', 'down_event_6_count',\n",
    "#        'up_event_8_count', 'action_time_gap_mean', 'down_event_4_count',\n",
    "#        'activity_0_count', 'down_event_nunique', 'input_word_count',\n",
    "#        'text_change_7_count', 'text_change_13_count',\n",
    "#        'text_change_14_count', 'word_count_change_sum',\n",
    "#        'text_change_11_count', 'up_event_12_count',\n",
    "#        'text_change_10_count', 'text_change_6_count',\n",
    "#        'text_change_2_count', 'word_count_change_max', 'up_event_nunique',\n",
    "#        'up_event_5_count', 'up_event_1_count', 'up_event_2_count',\n",
    "#        'down_event_10_count', 'activity_3_count', 'down_event_9_count',\n",
    "#        'down_event_14_count', 'text_change_12_count', 'up_event_13_count',\n",
    "#        'activity_nunique', 'up_event_7_count', 'up_event_6_count',\n",
    "#        'up_event_4_count']"
   ]
  },
  {
   "cell_type": "code",
   "execution_count": 17,
   "id": "1a3e5149",
   "metadata": {
    "execution": {
     "iopub.execute_input": "2023-10-17T09:53:08.255290Z",
     "iopub.status.busy": "2023-10-17T09:53:08.254847Z",
     "iopub.status.idle": "2023-10-17T09:53:08.258946Z",
     "shell.execute_reply": "2023-10-17T09:53:08.258391Z"
    },
    "papermill": {
     "duration": 0.013379,
     "end_time": "2023-10-17T09:53:08.260495",
     "exception": false,
     "start_time": "2023-10-17T09:53:08.247116",
     "status": "completed"
    },
    "tags": []
   },
   "outputs": [],
   "source": [
    "# # my test features selection \n",
    "# # it need 'id', 'score'\n",
    "# select_colname = ['input_word_length_mean', 'down_event_8_count',\n",
    "#        'cursor_position_max', 'down_event_3_count',\n",
    "#        'input_word_length_std', 'down_event_7_count',\n",
    "#        'down_event_11_count', 'input_word_length_max',\n",
    "#        'text_change_8_count', 'word_count_change_mean',\n",
    "#        'cursor_position_mean', 'action_time_gap_min',\n",
    "#        'word_count_nunique', 'down_event_0_count',\n",
    "#        'cursor_position_change_mean', 'text_change_5_count',\n",
    "#        'action_time_std', 'action_time_gap_sum', 'up_time_max',\n",
    "#        'cursor_position_nunique', 'cursor_position_change_max',\n",
    "#        'activity_2_count', 'down_event_5_count',\n",
    "#        'cursor_position_change_sum', 'down_event_1_count',\n",
    "#        'action_time_max', 'word_time_ratio', 'word_event_ratio',\n",
    "#        'text_change_nunique', 'cursor_position_change_std',\n",
    "#        'text_change_1_count', 'action_time_gap_std', 'action_time_sum',\n",
    "#        'text_change_4_count', 'activity_1_count', 'action_time_gap_max',\n",
    "#        'punct_cnt', 'up_event_11_count', 'idle_time_ratio',\n",
    "#        'action_time_mean', 'word_count_mean', 'word_count_change_std',\n",
    "#        'text_change_3_count', 'word_count_max', 'down_event_12_count',\n",
    "#        'up_event_3_count', 'down_event_13_count', 'up_event_0_count']\n",
    "# select_colname.append('id')\n",
    "# select_colname.append('score')\n",
    "# train_feats = train_feats[select_colname]\n",
    "# select_colname.remove('score')\n",
    "# test_feats = test_feats[select_colname]"
   ]
  },
  {
   "cell_type": "code",
   "execution_count": 18,
   "id": "b852620e",
   "metadata": {
    "execution": {
     "iopub.execute_input": "2023-10-17T09:53:08.275196Z",
     "iopub.status.busy": "2023-10-17T09:53:08.274782Z",
     "iopub.status.idle": "2023-10-17T09:53:08.278111Z",
     "shell.execute_reply": "2023-10-17T09:53:08.277607Z"
    },
    "papermill": {
     "duration": 0.012529,
     "end_time": "2023-10-17T09:53:08.279651",
     "exception": false,
     "start_time": "2023-10-17T09:53:08.267122",
     "status": "completed"
    },
    "tags": []
   },
   "outputs": [],
   "source": [
    "# cont_corr = train_feats.drop(columns =['id']).corr()     # 연속형 피처 간 상관관계\n",
    "# # cont_corr = train_feats.corr()\n",
    "# plt.figure(figsize=(12,6))\n",
    "# sns.heatmap(cont_corr, annot=True, cmap='OrRd');"
   ]
  },
  {
   "cell_type": "code",
   "execution_count": 19,
   "id": "e51da97c",
   "metadata": {
    "execution": {
     "iopub.execute_input": "2023-10-17T09:53:08.294372Z",
     "iopub.status.busy": "2023-10-17T09:53:08.294126Z",
     "iopub.status.idle": "2023-10-17T09:53:08.297547Z",
     "shell.execute_reply": "2023-10-17T09:53:08.296932Z"
    },
    "papermill": {
     "duration": 0.012659,
     "end_time": "2023-10-17T09:53:08.299104",
     "exception": false,
     "start_time": "2023-10-17T09:53:08.286445",
     "status": "completed"
    },
    "tags": []
   },
   "outputs": [],
   "source": [
    "# cont_corr"
   ]
  },
  {
   "cell_type": "markdown",
   "id": "2c09a187",
   "metadata": {
    "papermill": {
     "duration": 0.007094,
     "end_time": "2023-10-17T09:53:08.313080",
     "exception": false,
     "start_time": "2023-10-17T09:53:08.305986",
     "status": "completed"
    },
    "tags": []
   },
   "source": [
    "# Optimizing Hyperparameters with Optuna"
   ]
  },
  {
   "cell_type": "code",
   "execution_count": 20,
   "id": "071480f4",
   "metadata": {
    "execution": {
     "iopub.execute_input": "2023-10-17T09:53:08.328378Z",
     "iopub.status.busy": "2023-10-17T09:53:08.328133Z",
     "iopub.status.idle": "2023-10-17T09:53:08.331302Z",
     "shell.execute_reply": "2023-10-17T09:53:08.330747Z"
    },
    "papermill": {
     "duration": 0.01259,
     "end_time": "2023-10-17T09:53:08.332763",
     "exception": false,
     "start_time": "2023-10-17T09:53:08.320173",
     "status": "completed"
    },
    "tags": []
   },
   "outputs": [],
   "source": [
    "# from sklearn.model_selection import train_test_split\n",
    "# is_Testing = False\n",
    "# if is_Testing:\n",
    "#     train_feats, test_feats = train_test_split(train_feats, test_size=0.1,random_state=42)"
   ]
  },
  {
   "cell_type": "code",
   "execution_count": 21,
   "id": "f2a0463d",
   "metadata": {
    "execution": {
     "iopub.execute_input": "2023-10-17T09:53:08.350207Z",
     "iopub.status.busy": "2023-10-17T09:53:08.349800Z",
     "iopub.status.idle": "2023-10-17T09:53:10.530957Z",
     "shell.execute_reply": "2023-10-17T09:53:10.529985Z"
    },
    "papermill": {
     "duration": 2.193366,
     "end_time": "2023-10-17T09:53:10.533131",
     "exception": false,
     "start_time": "2023-10-17T09:53:08.339765",
     "status": "completed"
    },
    "tags": []
   },
   "outputs": [],
   "source": [
    "# %%time\n",
    "# # TODO: change this to CV OOF using kfold cross-validation instead of train test split\n",
    "# # can also change the categorical of parameters into \"suggest_float\"\n",
    "\n",
    "import optuna\n",
    "import lightgbm as lgb\n",
    "from sklearn.metrics import mean_squared_error\n",
    "from lightgbm.sklearn import log_evaluation\n",
    "# from lightgbm import early_stopping\n",
    "\n",
    "# X = train_feats.drop(columns=['id', 'score'])\n",
    "# Y = train_feats.score\n",
    "\n",
    "# def objective(trial,data=X,target=Y):\n",
    "    \n",
    "#     train_x, test_x, train_y, test_y = train_test_split(data, target, test_size=0.1,random_state=42)\n",
    "#     param = {\n",
    "#         'metric': 'rmse', \n",
    "#         'random_state': 42,\n",
    "#         'max_depth': trial.suggest_int('max_depth', 5, 25, step = 5),\n",
    "#         'n_estimators': trial.suggest_int('n_estimators', 1000, 100000, step = 1000),\n",
    "#         'reg_alpha': trial.suggest_float('reg_alpha', 1e-3, 10.0, log=True),\n",
    "#         'reg_lambda': trial.suggest_float('reg_lambda', 1e-3, 10.0, log=True),\n",
    "# #         'colsample_bytree': trial.suggest_float('colsample_bytree', 0.5, 1),\n",
    "# #         'subsample': trial.suggest_float('subsample', 0.5, 1),\n",
    "#         'learning_rate': trial.suggest_float('learning_rate', 1e-4, 0.1, log=True),\n",
    "#         'num_leaves' : trial.suggest_categorical('num_leaves' ,[32, 64, 128, 256]),\n",
    "#         'min_child_samples': trial.suggest_int('min_child_samples', 1, 100),\n",
    "#         'early_stopping_round': 100,\n",
    "#     }\n",
    "#     model = lgb.LGBMRegressor(**param)  \n",
    "    \n",
    "#     model.fit(train_x,train_y,eval_set=[(test_x,test_y)],\n",
    "# #               early_stopping_round=100,\n",
    "# #               callbacks=[log_evaluation(1000), early_stopping(100)],\n",
    "#               callbacks=[log_evaluation(1000)],\n",
    "#               )\n",
    "    \n",
    "#     preds = model.predict(test_x)\n",
    "    \n",
    "#     rmse = mean_squared_error(test_y, preds,squared=False)\n",
    "    \n",
    "#     return rmse\n"
   ]
  },
  {
   "cell_type": "code",
   "execution_count": 22,
   "id": "3e96ed04",
   "metadata": {
    "execution": {
     "iopub.execute_input": "2023-10-17T09:53:10.548740Z",
     "iopub.status.busy": "2023-10-17T09:53:10.548304Z",
     "iopub.status.idle": "2023-10-17T09:53:10.552136Z",
     "shell.execute_reply": "2023-10-17T09:53:10.551366Z"
    },
    "papermill": {
     "duration": 0.012942,
     "end_time": "2023-10-17T09:53:10.553608",
     "exception": false,
     "start_time": "2023-10-17T09:53:10.540666",
     "status": "completed"
    },
    "tags": []
   },
   "outputs": [],
   "source": [
    "# %%time\n",
    "\n",
    "# use_optuna_tuning = False\n",
    "# if use_optuna_tuning:\n",
    "#     study = optuna.create_study(direction='minimize', study_name='Optimize boosting hyperparameters')\n",
    "#     study.optimize(objective, n_trials=200)"
   ]
  },
  {
   "cell_type": "code",
   "execution_count": 23,
   "id": "ece85bc6",
   "metadata": {
    "execution": {
     "iopub.execute_input": "2023-10-17T09:53:10.568051Z",
     "iopub.status.busy": "2023-10-17T09:53:10.567664Z",
     "iopub.status.idle": "2023-10-17T09:53:10.570950Z",
     "shell.execute_reply": "2023-10-17T09:53:10.570138Z"
    },
    "papermill": {
     "duration": 0.012033,
     "end_time": "2023-10-17T09:53:10.572448",
     "exception": false,
     "start_time": "2023-10-17T09:53:10.560415",
     "status": "completed"
    },
    "tags": []
   },
   "outputs": [],
   "source": [
    "# if use_optuna_tuning:\n",
    "#     print('Best trial:', study.best_trial.params)"
   ]
  },
  {
   "cell_type": "markdown",
   "id": "ea0825e1",
   "metadata": {
    "papermill": {
     "duration": 0.00661,
     "end_time": "2023-10-17T09:53:10.585798",
     "exception": false,
     "start_time": "2023-10-17T09:53:10.579188",
     "status": "completed"
    },
    "tags": []
   },
   "source": [
    "# LGBM Model"
   ]
  },
  {
   "cell_type": "code",
   "execution_count": 24,
   "id": "f4c5da1c",
   "metadata": {
    "execution": {
     "iopub.execute_input": "2023-10-17T09:53:10.600561Z",
     "iopub.status.busy": "2023-10-17T09:53:10.600321Z",
     "iopub.status.idle": "2023-10-17T09:53:44.803787Z",
     "shell.execute_reply": "2023-10-17T09:53:44.803092Z"
    },
    "papermill": {
     "duration": 34.212709,
     "end_time": "2023-10-17T09:53:44.805289",
     "exception": false,
     "start_time": "2023-10-17T09:53:10.592580",
     "status": "completed"
    },
    "tags": []
   },
   "outputs": [
    {
     "name": "stderr",
     "output_type": "stream",
     "text": [
      "<timed exec>:39: SettingWithCopyWarning: \n",
      "A value is trying to be set on a copy of a slice from a DataFrame.\n",
      "Try using .loc[row_indexer,col_indexer] = value instead\n",
      "\n",
      "See the caveats in the documentation: https://pandas.pydata.org/pandas-docs/stable/user_guide/indexing.html#returning-a-view-versus-a-copy\n"
     ]
    },
    {
     "name": "stdout",
     "output_type": "stream",
     "text": [
      "\n",
      "Fold_1 Training ================================\n",
      "\n",
      "Training until validation scores don't improve for 100 rounds\n",
      "[500]\ttrain's rmse: 0.486566\tvalid's rmse: 0.663107\n",
      "Early stopping, best iteration is:\n",
      "[620]\ttrain's rmse: 0.454132\tvalid's rmse: 0.657839\n",
      "\n",
      "Fold_2 Training ================================\n",
      "\n"
     ]
    },
    {
     "name": "stderr",
     "output_type": "stream",
     "text": [
      "<timed exec>:68: SettingWithCopyWarning: \n",
      "A value is trying to be set on a copy of a slice from a DataFrame.\n",
      "Try using .loc[row_indexer,col_indexer] = value instead\n",
      "\n",
      "See the caveats in the documentation: https://pandas.pydata.org/pandas-docs/stable/user_guide/indexing.html#returning-a-view-versus-a-copy\n"
     ]
    },
    {
     "name": "stdout",
     "output_type": "stream",
     "text": [
      "Training until validation scores don't improve for 100 rounds\n",
      "[500]\ttrain's rmse: 0.491082\tvalid's rmse: 0.644093\n",
      "Early stopping, best iteration is:\n",
      "[840]\ttrain's rmse: 0.407911\tvalid's rmse: 0.632443\n"
     ]
    },
    {
     "name": "stderr",
     "output_type": "stream",
     "text": [
      "<timed exec>:68: SettingWithCopyWarning: \n",
      "A value is trying to be set on a copy of a slice from a DataFrame.\n",
      "Try using .loc[row_indexer,col_indexer] = value instead\n",
      "\n",
      "See the caveats in the documentation: https://pandas.pydata.org/pandas-docs/stable/user_guide/indexing.html#returning-a-view-versus-a-copy\n"
     ]
    },
    {
     "name": "stdout",
     "output_type": "stream",
     "text": [
      "\n",
      "Fold_3 Training ================================\n",
      "\n",
      "Training until validation scores don't improve for 100 rounds\n",
      "[500]\ttrain's rmse: 0.48517\tvalid's rmse: 0.680437\n",
      "[1000]\ttrain's rmse: 0.373589\tvalid's rmse: 0.669779\n",
      "Early stopping, best iteration is:\n",
      "[1090]\ttrain's rmse: 0.357806\tvalid's rmse: 0.669419\n"
     ]
    },
    {
     "name": "stderr",
     "output_type": "stream",
     "text": [
      "<timed exec>:68: SettingWithCopyWarning: \n",
      "A value is trying to be set on a copy of a slice from a DataFrame.\n",
      "Try using .loc[row_indexer,col_indexer] = value instead\n",
      "\n",
      "See the caveats in the documentation: https://pandas.pydata.org/pandas-docs/stable/user_guide/indexing.html#returning-a-view-versus-a-copy\n"
     ]
    },
    {
     "name": "stdout",
     "output_type": "stream",
     "text": [
      "\n",
      "Fold_4 Training ================================\n",
      "\n",
      "Training until validation scores don't improve for 100 rounds\n",
      "[500]\ttrain's rmse: 0.496705\tvalid's rmse: 0.605964\n",
      "Early stopping, best iteration is:\n",
      "[575]\ttrain's rmse: 0.474113\tvalid's rmse: 0.605194\n",
      "\n",
      "Fold_5 Training ================================\n",
      "\n"
     ]
    },
    {
     "name": "stderr",
     "output_type": "stream",
     "text": [
      "<timed exec>:68: SettingWithCopyWarning: \n",
      "A value is trying to be set on a copy of a slice from a DataFrame.\n",
      "Try using .loc[row_indexer,col_indexer] = value instead\n",
      "\n",
      "See the caveats in the documentation: https://pandas.pydata.org/pandas-docs/stable/user_guide/indexing.html#returning-a-view-versus-a-copy\n"
     ]
    },
    {
     "name": "stdout",
     "output_type": "stream",
     "text": [
      "Training until validation scores don't improve for 100 rounds\n",
      "[500]\ttrain's rmse: 0.490235\tvalid's rmse: 0.645026\n",
      "Early stopping, best iteration is:\n",
      "[568]\ttrain's rmse: 0.470249\tvalid's rmse: 0.643293\n",
      "CPU times: user 48.6 s, sys: 17.9 s, total: 1min 6s\n",
      "Wall time: 34.2 s\n"
     ]
    },
    {
     "name": "stderr",
     "output_type": "stream",
     "text": [
      "<timed exec>:68: SettingWithCopyWarning: \n",
      "A value is trying to be set on a copy of a slice from a DataFrame.\n",
      "Try using .loc[row_indexer,col_indexer] = value instead\n",
      "\n",
      "See the caveats in the documentation: https://pandas.pydata.org/pandas-docs/stable/user_guide/indexing.html#returning-a-view-versus-a-copy\n"
     ]
    },
    {
     "data": {
      "text/html": [
       "<div>\n",
       "<style scoped>\n",
       "    .dataframe tbody tr th:only-of-type {\n",
       "        vertical-align: middle;\n",
       "    }\n",
       "\n",
       "    .dataframe tbody tr th {\n",
       "        vertical-align: top;\n",
       "    }\n",
       "\n",
       "    .dataframe thead th {\n",
       "        text-align: right;\n",
       "    }\n",
       "</style>\n",
       "<table border=\"1\" class=\"dataframe\">\n",
       "  <thead>\n",
       "    <tr style=\"text-align: right;\">\n",
       "      <th></th>\n",
       "      <th>column</th>\n",
       "      <th>importance</th>\n",
       "    </tr>\n",
       "  </thead>\n",
       "  <tbody>\n",
       "    <tr>\n",
       "      <th>0</th>\n",
       "      <td>input_word_length_mean</td>\n",
       "      <td>999.8</td>\n",
       "    </tr>\n",
       "    <tr>\n",
       "      <th>1</th>\n",
       "      <td>down_event_8_count</td>\n",
       "      <td>822.6</td>\n",
       "    </tr>\n",
       "    <tr>\n",
       "      <th>2</th>\n",
       "      <td>down_event_3_count</td>\n",
       "      <td>730.8</td>\n",
       "    </tr>\n",
       "    <tr>\n",
       "      <th>3</th>\n",
       "      <td>final_word_count</td>\n",
       "      <td>604.0</td>\n",
       "    </tr>\n",
       "    <tr>\n",
       "      <th>4</th>\n",
       "      <td>down_event_11_count</td>\n",
       "      <td>603.6</td>\n",
       "    </tr>\n",
       "    <tr>\n",
       "      <th>...</th>\n",
       "      <td>...</td>\n",
       "      <td>...</td>\n",
       "    </tr>\n",
       "    <tr>\n",
       "      <th>69</th>\n",
       "      <td>down_event_9_count</td>\n",
       "      <td>39.6</td>\n",
       "    </tr>\n",
       "    <tr>\n",
       "      <th>70</th>\n",
       "      <td>down_event_10_count</td>\n",
       "      <td>32.4</td>\n",
       "    </tr>\n",
       "    <tr>\n",
       "      <th>71</th>\n",
       "      <td>down_event_14_count</td>\n",
       "      <td>31.8</td>\n",
       "    </tr>\n",
       "    <tr>\n",
       "      <th>72</th>\n",
       "      <td>activity_nunique</td>\n",
       "      <td>29.6</td>\n",
       "    </tr>\n",
       "    <tr>\n",
       "      <th>73</th>\n",
       "      <td>text_change_12_count</td>\n",
       "      <td>27.0</td>\n",
       "    </tr>\n",
       "  </tbody>\n",
       "</table>\n",
       "<p>74 rows × 2 columns</p>\n",
       "</div>"
      ],
      "text/plain": [
       "                    column  importance\n",
       "0   input_word_length_mean       999.8\n",
       "1       down_event_8_count       822.6\n",
       "2       down_event_3_count       730.8\n",
       "3         final_word_count       604.0\n",
       "4      down_event_11_count       603.6\n",
       "..                     ...         ...\n",
       "69      down_event_9_count        39.6\n",
       "70     down_event_10_count        32.4\n",
       "71     down_event_14_count        31.8\n",
       "72        activity_nunique        29.6\n",
       "73    text_change_12_count        27.0\n",
       "\n",
       "[74 rows x 2 columns]"
      ]
     },
     "execution_count": 24,
     "metadata": {},
     "output_type": "execute_result"
    }
   ],
   "source": [
    "%%time\n",
    "import gc\n",
    "import lightgbm as lgb\n",
    "from sklearn.model_selection import KFold, StratifiedKFold, GroupKFold\n",
    "from lightgbm import early_stopping\n",
    "ycol = 'score'\n",
    "feature_names = list(\n",
    "    filter(lambda x: x not in [ycol, 'id'], train_feats.columns))\n",
    "\n",
    "model = lgb.LGBMRegressor(metric='rmse', \n",
    "                          random_state=42,\n",
    "                          n_estimators=10000,\n",
    "                          reg_alpha=0.11191757875268019,\n",
    "                          reg_lambda=2.767891890352492,\n",
    "#                           colsample_tytree=0.8130568466013137,\n",
    "#                           subsample=0.9324597831546558,\n",
    "                          subsample=1.0,\n",
    "                          learning_rate=0.0059971707517773795,\n",
    "                          num_leaves=28,\n",
    "                          min_child_samples=37,\n",
    "                         )\n",
    "\n",
    "# model = lgb.LGBMRegressor(metric='rmse', \n",
    "#                           max_depth=15,\n",
    "#                           random_state=42,\n",
    "#                           n_estimators=61000,\n",
    "#                           reg_alpha=0.007654008530059538,\n",
    "#                           reg_lambda=0.007679306840372993,\n",
    "#                           colsample_bytree=1.0,\n",
    "# #                           colsample_bytree=0.8144580038492835,\n",
    "# #                           subsample=0.6094218361178689,\n",
    "#                           subsample=1.0,\n",
    "#                           learning_rate=0.001494529719393843,\n",
    "#                           num_leaves=32,\n",
    "#                           min_child_samples=17,\n",
    "#                          )\n",
    "\n",
    "oof = []\n",
    "prediction = test_feats[['id']]\n",
    "prediction[ycol] = 0\n",
    "df_importance_list = []\n",
    "\n",
    "kfold = KFold(n_splits=5, shuffle=True, random_state=42)\n",
    "for fold_id, (trn_idx, val_idx) in enumerate(kfold.split(train_feats[feature_names])):\n",
    "    X_train = train_feats.iloc[trn_idx][feature_names]\n",
    "    Y_train = train_feats.iloc[trn_idx][ycol]\n",
    "\n",
    "    X_val = train_feats.iloc[val_idx][feature_names]\n",
    "    Y_val = train_feats.iloc[val_idx][ycol]\n",
    "\n",
    "    print('\\nFold_{} Training ================================\\n'.format(fold_id+1))\n",
    "\n",
    "    lgb_model = model.fit(X_train,\n",
    "                          Y_train,\n",
    "                          eval_names=['train', 'valid'],\n",
    "                          eval_set=[(X_train, Y_train), (X_val, Y_val)],\n",
    "                          eval_metric='rmse',\n",
    "                          callbacks=[log_evaluation(500), early_stopping(100)]\n",
    "                         )\n",
    "\n",
    "    pred_val = lgb_model.predict(\n",
    "        X_val, num_iteration=lgb_model.best_iteration_)\n",
    "    df_oof = train_feats.iloc[val_idx][['id', ycol]].copy()\n",
    "    df_oof['pred'] = pred_val\n",
    "    oof.append(df_oof)\n",
    "\n",
    "    pred_test = lgb_model.predict(\n",
    "        test_feats[feature_names], num_iteration=lgb_model.best_iteration_)\n",
    "    prediction[ycol] += pred_test / kfold.n_splits\n",
    "\n",
    "    df_importance = pd.DataFrame({\n",
    "        'column': feature_names,\n",
    "        'importance': lgb_model.feature_importances_,\n",
    "    })\n",
    "    df_importance_list.append(df_importance)\n",
    "\n",
    "    del lgb_model, pred_val, pred_test, X_train, Y_train, X_val, Y_val\n",
    "    gc.collect()\n",
    "    \n",
    "    \n",
    "df_importance = pd.concat(df_importance_list)\n",
    "df_importance = df_importance.groupby(['column'])['importance'].agg(\n",
    "    'mean').sort_values(ascending=False).reset_index()\n",
    "df_importance"
   ]
  },
  {
   "cell_type": "code",
   "execution_count": 25,
   "id": "d9f2fc7d",
   "metadata": {
    "execution": {
     "iopub.execute_input": "2023-10-17T09:53:44.823526Z",
     "iopub.status.busy": "2023-10-17T09:53:44.823251Z",
     "iopub.status.idle": "2023-10-17T09:53:44.826818Z",
     "shell.execute_reply": "2023-10-17T09:53:44.825920Z"
    },
    "papermill": {
     "duration": 0.014342,
     "end_time": "2023-10-17T09:53:44.828457",
     "exception": false,
     "start_time": "2023-10-17T09:53:44.814115",
     "status": "completed"
    },
    "tags": []
   },
   "outputs": [],
   "source": [
    "# pd.set_option('display.max_columns', 100)\n",
    "# display(df_importance.T)\n",
    "# sns.lineplot(df_importance)"
   ]
  },
  {
   "cell_type": "code",
   "execution_count": 26,
   "id": "beb6ba0e",
   "metadata": {
    "execution": {
     "iopub.execute_input": "2023-10-17T09:53:44.847081Z",
     "iopub.status.busy": "2023-10-17T09:53:44.846834Z",
     "iopub.status.idle": "2023-10-17T09:53:44.850474Z",
     "shell.execute_reply": "2023-10-17T09:53:44.849679Z"
    },
    "papermill": {
     "duration": 0.015196,
     "end_time": "2023-10-17T09:53:44.852270",
     "exception": false,
     "start_time": "2023-10-17T09:53:44.837074",
     "status": "completed"
    },
    "tags": []
   },
   "outputs": [],
   "source": [
    "# df_importance[df_importance.importance <= 0].column.values"
   ]
  },
  {
   "cell_type": "code",
   "execution_count": 27,
   "id": "8492ea96",
   "metadata": {
    "execution": {
     "iopub.execute_input": "2023-10-17T09:53:44.869957Z",
     "iopub.status.busy": "2023-10-17T09:53:44.869708Z",
     "iopub.status.idle": "2023-10-17T09:53:44.873095Z",
     "shell.execute_reply": "2023-10-17T09:53:44.872266Z"
    },
    "papermill": {
     "duration": 0.014481,
     "end_time": "2023-10-17T09:53:44.874887",
     "exception": false,
     "start_time": "2023-10-17T09:53:44.860406",
     "status": "completed"
    },
    "tags": []
   },
   "outputs": [],
   "source": [
    "# df_oof.info()"
   ]
  },
  {
   "cell_type": "code",
   "execution_count": 28,
   "id": "2a8532aa",
   "metadata": {
    "execution": {
     "iopub.execute_input": "2023-10-17T09:53:44.891997Z",
     "iopub.status.busy": "2023-10-17T09:53:44.891777Z",
     "iopub.status.idle": "2023-10-17T09:53:44.894896Z",
     "shell.execute_reply": "2023-10-17T09:53:44.894190Z"
    },
    "papermill": {
     "duration": 0.013747,
     "end_time": "2023-10-17T09:53:44.896551",
     "exception": false,
     "start_time": "2023-10-17T09:53:44.882804",
     "status": "completed"
    },
    "tags": []
   },
   "outputs": [],
   "source": [
    "# temp_1 = pd.merge(df_oof, train_feats, on='id', how='left')\n",
    "# temp_1.columns"
   ]
  },
  {
   "cell_type": "code",
   "execution_count": 29,
   "id": "f27cda67",
   "metadata": {
    "execution": {
     "iopub.execute_input": "2023-10-17T09:53:44.913688Z",
     "iopub.status.busy": "2023-10-17T09:53:44.913464Z",
     "iopub.status.idle": "2023-10-17T09:53:44.916664Z",
     "shell.execute_reply": "2023-10-17T09:53:44.915925Z"
    },
    "papermill": {
     "duration": 0.013766,
     "end_time": "2023-10-17T09:53:44.918341",
     "exception": false,
     "start_time": "2023-10-17T09:53:44.904575",
     "status": "completed"
    },
    "tags": []
   },
   "outputs": [],
   "source": [
    "# # sns.scatterplot(x=df_oof.pred, y=train_feats.score, )\n",
    "# fig, ax = plt.subplots()\n",
    "# sns.scatterplot(x='pred', y='score_x', data=temp_1, ax=ax, hue='penalty1')\n",
    "# ax.set_xlim(0, 6.5)\n",
    "# ax.set_ylim(0, 6.5)\n",
    "# plt.show()"
   ]
  },
  {
   "cell_type": "code",
   "execution_count": 30,
   "id": "367f3b99",
   "metadata": {
    "execution": {
     "iopub.execute_input": "2023-10-17T09:53:44.935759Z",
     "iopub.status.busy": "2023-10-17T09:53:44.935523Z",
     "iopub.status.idle": "2023-10-17T09:53:44.938940Z",
     "shell.execute_reply": "2023-10-17T09:53:44.938156Z"
    },
    "papermill": {
     "duration": 0.0145,
     "end_time": "2023-10-17T09:53:44.940819",
     "exception": false,
     "start_time": "2023-10-17T09:53:44.926319",
     "status": "completed"
    },
    "tags": []
   },
   "outputs": [],
   "source": [
    "# # sns.scatterplot(x=df_oof.pred, y=train_feats.score, )\n",
    "# fig, ax = plt.subplots()\n",
    "# sns.scatterplot(x=round(temp_1.pred, 1), y='score_x', data=temp_1, ax=ax, hue='penalty1')\n",
    "# ax.set_xlim(0, 6.5)\n",
    "# ax.set_ylim(0, 6.5)\n",
    "# plt.show()"
   ]
  },
  {
   "cell_type": "code",
   "execution_count": 31,
   "id": "6b6de2c8",
   "metadata": {
    "execution": {
     "iopub.execute_input": "2023-10-17T09:53:44.958359Z",
     "iopub.status.busy": "2023-10-17T09:53:44.958092Z",
     "iopub.status.idle": "2023-10-17T09:53:44.962106Z",
     "shell.execute_reply": "2023-10-17T09:53:44.961466Z"
    },
    "papermill": {
     "duration": 0.014708,
     "end_time": "2023-10-17T09:53:44.963772",
     "exception": false,
     "start_time": "2023-10-17T09:53:44.949064",
     "status": "completed"
    },
    "tags": []
   },
   "outputs": [],
   "source": [
    "# def x_round(x):\n",
    "#     return [ round(x_value*2)/2 for x_value in x ]\n",
    "\n",
    "# # fig, ax = plt.subplots()\n",
    "# # sns.scatterplot(x=x_round(temp_1.pred), y='score_x', data=temp_1, ax=ax, hue='penalty1')\n",
    "# # ax.set_xlim(0, 6.5)\n",
    "# # ax.set_ylim(0, 6.5)\n",
    "# # plt.show()"
   ]
  },
  {
   "cell_type": "code",
   "execution_count": 32,
   "id": "0a7838c1",
   "metadata": {
    "execution": {
     "iopub.execute_input": "2023-10-17T09:53:44.981349Z",
     "iopub.status.busy": "2023-10-17T09:53:44.981077Z",
     "iopub.status.idle": "2023-10-17T09:53:44.990156Z",
     "shell.execute_reply": "2023-10-17T09:53:44.989531Z"
    },
    "papermill": {
     "duration": 0.019798,
     "end_time": "2023-10-17T09:53:44.991614",
     "exception": false,
     "start_time": "2023-10-17T09:53:44.971816",
     "status": "completed"
    },
    "tags": []
   },
   "outputs": [
    {
     "name": "stdout",
     "output_type": "stream",
     "text": [
      "rmse: 0.6420189467797773\n"
     ]
    }
   ],
   "source": [
    "from sklearn.metrics import mean_squared_error\n",
    "df_oof = pd.concat(oof)\n",
    "rmse = mean_squared_error(df_oof[ycol], np.clip(df_oof['pred'], a_min=0.5, a_max=6.0), squared=False)\n",
    "print('rmse:', rmse)"
   ]
  },
  {
   "cell_type": "code",
   "execution_count": 33,
   "id": "f819b340",
   "metadata": {
    "execution": {
     "iopub.execute_input": "2023-10-17T09:53:45.008338Z",
     "iopub.status.busy": "2023-10-17T09:53:45.008061Z",
     "iopub.status.idle": "2023-10-17T09:53:45.011780Z",
     "shell.execute_reply": "2023-10-17T09:53:45.011194Z"
    },
    "papermill": {
     "duration": 0.014149,
     "end_time": "2023-10-17T09:53:45.013553",
     "exception": false,
     "start_time": "2023-10-17T09:53:44.999404",
     "status": "completed"
    },
    "tags": []
   },
   "outputs": [],
   "source": [
    "# from sklearn.metrics import mean_squared_error\n",
    "# df_oof = pd.concat(oof)\n",
    "# rmse = mean_squared_error(df_oof[ycol], np.clip(x_round(df_oof['pred']), a_min=0.5, a_max=6.0), squared=False)\n",
    "# print('rmse:', rmse)"
   ]
  },
  {
   "cell_type": "code",
   "execution_count": 34,
   "id": "6d6213b9",
   "metadata": {
    "execution": {
     "iopub.execute_input": "2023-10-17T09:53:45.030874Z",
     "iopub.status.busy": "2023-10-17T09:53:45.030593Z",
     "iopub.status.idle": "2023-10-17T09:53:45.033794Z",
     "shell.execute_reply": "2023-10-17T09:53:45.033080Z"
    },
    "papermill": {
     "duration": 0.013676,
     "end_time": "2023-10-17T09:53:45.035321",
     "exception": false,
     "start_time": "2023-10-17T09:53:45.021645",
     "status": "completed"
    },
    "tags": []
   },
   "outputs": [],
   "source": [
    "# from sklearn.metrics import mean_squared_error\n",
    "# df_oof = pd.concat(oof)\n",
    "# rmse = mean_squared_error(df_oof[ycol], np.clip(round(df_oof['pred'], 1), a_min=0.5, a_max=6.0), squared=False)\n",
    "# print('rmse:', rmse)"
   ]
  },
  {
   "cell_type": "code",
   "execution_count": 35,
   "id": "cc251317",
   "metadata": {
    "execution": {
     "iopub.execute_input": "2023-10-17T09:53:45.052768Z",
     "iopub.status.busy": "2023-10-17T09:53:45.052519Z",
     "iopub.status.idle": "2023-10-17T09:53:45.055684Z",
     "shell.execute_reply": "2023-10-17T09:53:45.054925Z"
    },
    "papermill": {
     "duration": 0.013835,
     "end_time": "2023-10-17T09:53:45.057247",
     "exception": false,
     "start_time": "2023-10-17T09:53:45.043412",
     "status": "completed"
    },
    "tags": []
   },
   "outputs": [],
   "source": [
    "# display(prediction)\n",
    "# prediction['score'] = np.clip(round(prediction['score'], 1), a_min=0.5, a_max=6.0)\n",
    "# prediction.to_csv('submission.csv', index=False)"
   ]
  },
  {
   "cell_type": "code",
   "execution_count": 36,
   "id": "748820ad",
   "metadata": {
    "execution": {
     "iopub.execute_input": "2023-10-17T09:53:45.074324Z",
     "iopub.status.busy": "2023-10-17T09:53:45.074040Z",
     "iopub.status.idle": "2023-10-17T09:53:45.086007Z",
     "shell.execute_reply": "2023-10-17T09:53:45.085377Z"
    },
    "papermill": {
     "duration": 0.022783,
     "end_time": "2023-10-17T09:53:45.087922",
     "exception": false,
     "start_time": "2023-10-17T09:53:45.065139",
     "status": "completed"
    },
    "tags": []
   },
   "outputs": [
    {
     "data": {
      "text/html": [
       "<div>\n",
       "<style scoped>\n",
       "    .dataframe tbody tr th:only-of-type {\n",
       "        vertical-align: middle;\n",
       "    }\n",
       "\n",
       "    .dataframe tbody tr th {\n",
       "        vertical-align: top;\n",
       "    }\n",
       "\n",
       "    .dataframe thead th {\n",
       "        text-align: right;\n",
       "    }\n",
       "</style>\n",
       "<table border=\"1\" class=\"dataframe\">\n",
       "  <thead>\n",
       "    <tr style=\"text-align: right;\">\n",
       "      <th></th>\n",
       "      <th>id</th>\n",
       "      <th>score</th>\n",
       "    </tr>\n",
       "  </thead>\n",
       "  <tbody>\n",
       "    <tr>\n",
       "      <th>0</th>\n",
       "      <td>0000aaaa</td>\n",
       "      <td>1.625999</td>\n",
       "    </tr>\n",
       "    <tr>\n",
       "      <th>1</th>\n",
       "      <td>2222bbbb</td>\n",
       "      <td>1.577628</td>\n",
       "    </tr>\n",
       "    <tr>\n",
       "      <th>2</th>\n",
       "      <td>4444cccc</td>\n",
       "      <td>1.575059</td>\n",
       "    </tr>\n",
       "  </tbody>\n",
       "</table>\n",
       "</div>"
      ],
      "text/plain": [
       "         id     score\n",
       "0  0000aaaa  1.625999\n",
       "1  2222bbbb  1.577628\n",
       "2  4444cccc  1.575059"
      ]
     },
     "metadata": {},
     "output_type": "display_data"
    },
    {
     "name": "stderr",
     "output_type": "stream",
     "text": [
      "/tmp/ipykernel_20/1208111277.py:2: SettingWithCopyWarning: \n",
      "A value is trying to be set on a copy of a slice from a DataFrame.\n",
      "Try using .loc[row_indexer,col_indexer] = value instead\n",
      "\n",
      "See the caveats in the documentation: https://pandas.pydata.org/pandas-docs/stable/user_guide/indexing.html#returning-a-view-versus-a-copy\n",
      "  prediction['score'] = np.clip(prediction['score'], a_min=0.5, a_max=6.0)\n"
     ]
    }
   ],
   "source": [
    "display(prediction)\n",
    "prediction['score'] = np.clip(prediction['score'], a_min=0.5, a_max=6.0)\n",
    "prediction.to_csv('submission.csv', index=False)"
   ]
  }
 ],
 "metadata": {
  "kernelspec": {
   "display_name": "Python 3",
   "language": "python",
   "name": "python3"
  },
  "language_info": {
   "codemirror_mode": {
    "name": "ipython",
    "version": 3
   },
   "file_extension": ".py",
   "mimetype": "text/x-python",
   "name": "python",
   "nbconvert_exporter": "python",
   "pygments_lexer": "ipython3",
   "version": "3.10.12"
  },
  "papermill": {
   "default_parameters": {},
   "duration": 77.783116,
   "end_time": "2023-10-17T09:53:45.816092",
   "environment_variables": {},
   "exception": null,
   "input_path": "__notebook__.ipynb",
   "output_path": "__notebook__.ipynb",
   "parameters": {},
   "start_time": "2023-10-17T09:52:28.032976",
   "version": "2.4.0"
  }
 },
 "nbformat": 4,
 "nbformat_minor": 5
}
